{
 "cells": [
  {
   "cell_type": "code",
   "execution_count": 3,
   "metadata": {},
   "outputs": [
    {
     "name": "stdout",
     "output_type": "stream",
     "text": [
      "There are 466 stocks\n"
     ]
    },
    {
     "data": {
      "text/html": [
       "<div>\n",
       "<style scoped>\n",
       "    .dataframe tbody tr th:only-of-type {\n",
       "        vertical-align: middle;\n",
       "    }\n",
       "\n",
       "    .dataframe tbody tr th {\n",
       "        vertical-align: top;\n",
       "    }\n",
       "\n",
       "    .dataframe thead th {\n",
       "        text-align: right;\n",
       "    }\n",
       "</style>\n",
       "<table border=\"1\" class=\"dataframe\">\n",
       "  <thead>\n",
       "    <tr style=\"text-align: right;\">\n",
       "      <th></th>\n",
       "      <th>date</th>\n",
       "      <th>open</th>\n",
       "      <th>high</th>\n",
       "      <th>low</th>\n",
       "      <th>close</th>\n",
       "      <th>volume</th>\n",
       "      <th>adj_close</th>\n",
       "      <th>Name</th>\n",
       "    </tr>\n",
       "  </thead>\n",
       "  <tbody>\n",
       "    <tr>\n",
       "      <th>0</th>\n",
       "      <td>2016-10-18</td>\n",
       "      <td>39.889999</td>\n",
       "      <td>38.840000</td>\n",
       "      <td>38.840000</td>\n",
       "      <td>39.349998</td>\n",
       "      <td>10538200.0</td>\n",
       "      <td>37.929455</td>\n",
       "      <td>AAL</td>\n",
       "    </tr>\n",
       "    <tr>\n",
       "      <th>1</th>\n",
       "      <td>2016-10-19</td>\n",
       "      <td>40.810001</td>\n",
       "      <td>39.400002</td>\n",
       "      <td>39.480000</td>\n",
       "      <td>40.630001</td>\n",
       "      <td>12764200.0</td>\n",
       "      <td>39.163250</td>\n",
       "      <td>AAL</td>\n",
       "    </tr>\n",
       "    <tr>\n",
       "      <th>2</th>\n",
       "      <td>2016-10-20</td>\n",
       "      <td>40.930000</td>\n",
       "      <td>39.410000</td>\n",
       "      <td>40.930000</td>\n",
       "      <td>40.590000</td>\n",
       "      <td>14695900.0</td>\n",
       "      <td>39.124695</td>\n",
       "      <td>AAL</td>\n",
       "    </tr>\n",
       "    <tr>\n",
       "      <th>3</th>\n",
       "      <td>2016-10-21</td>\n",
       "      <td>40.240002</td>\n",
       "      <td>39.650002</td>\n",
       "      <td>39.970001</td>\n",
       "      <td>39.900002</td>\n",
       "      <td>9981500.0</td>\n",
       "      <td>38.459602</td>\n",
       "      <td>AAL</td>\n",
       "    </tr>\n",
       "    <tr>\n",
       "      <th>4</th>\n",
       "      <td>2016-10-24</td>\n",
       "      <td>40.549999</td>\n",
       "      <td>39.770000</td>\n",
       "      <td>40.250000</td>\n",
       "      <td>39.830002</td>\n",
       "      <td>6466300.0</td>\n",
       "      <td>38.392132</td>\n",
       "      <td>AAL</td>\n",
       "    </tr>\n",
       "  </tbody>\n",
       "</table>\n",
       "</div>"
      ],
      "text/plain": [
       "         date       open       high        low      close      volume  \\\n",
       "0  2016-10-18  39.889999  38.840000  38.840000  39.349998  10538200.0   \n",
       "1  2016-10-19  40.810001  39.400002  39.480000  40.630001  12764200.0   \n",
       "2  2016-10-20  40.930000  39.410000  40.930000  40.590000  14695900.0   \n",
       "3  2016-10-21  40.240002  39.650002  39.970001  39.900002   9981500.0   \n",
       "4  2016-10-24  40.549999  39.770000  40.250000  39.830002   6466300.0   \n",
       "\n",
       "   adj_close Name  \n",
       "0  37.929455  AAL  \n",
       "1  39.163250  AAL  \n",
       "2  39.124695  AAL  \n",
       "3  38.459602  AAL  \n",
       "4  38.392132  AAL  "
      ]
     },
     "execution_count": 3,
     "metadata": {},
     "output_type": "execute_result"
    }
   ],
   "source": [
    "import pandas as pd\n",
    "stocks = pd.read_csv('all_stocks_5yr.csv')\n",
    "fixed_names = {k:v for v, k in zip(stocks.columns[1:], stocks.columns[:-1])}\n",
    "fixed_names['index']='date'\n",
    "fixed_names['volume'] = 'adj_close'\n",
    "stocks = pd.read_csv('all_stocks_5yr.csv')\n",
    "stocks = stocks.reset_index().rename(columns=fixed_names)\n",
    "print(f'There are {stocks.Name.nunique()} stocks')\n",
    "stocks.head()"
   ]
  },
  {
   "cell_type": "code",
   "execution_count": 4,
   "metadata": {},
   "outputs": [
    {
     "data": {
      "text/plain": [
       "True"
      ]
     },
     "execution_count": 4,
     "metadata": {},
     "output_type": "execute_result"
    }
   ],
   "source": [
    "tickers = ['AAPL', 'XOM' ,'VMC', 'BA', 'AMZN', 'TGT', 'WMT', 'KO', 'UNH', 'JPM', 'GOOGL', 'STT',\n",
    "           'MSFT', 'VZ', 'XEL', 'SPG']\n",
    "all([t in stocks.Name.unique() for t in tickers])"
   ]
  },
  {
   "cell_type": "code",
   "execution_count": 5,
   "metadata": {},
   "outputs": [],
   "source": [
    "import numpy as np\n",
    "open_vals = []\n",
    "high_vals = []\n",
    "low_vals = []\n",
    "close_vals = []\n",
    "\n",
    "for ticker in tickers:\n",
    "    df = stocks[stocks.Name == ticker]\n",
    "    stock_opens = df['open']\n",
    "    # Open(t) / Open(t-1)\n",
    "    open_vals.append(stock_opens.iloc[1:].reset_index(drop = True) / \n",
    "                     stock_opens.iloc[:-1].reset_index(drop = True))\n",
    "    # High(t-1) / Open(t-1) and so fort\n",
    "    high_vals.append(df['high'].iloc[:-1] / stock_opens.iloc[:-1])\n",
    "    low_vals.append(df['low'].iloc[:-1] / stock_opens.iloc[:-1])\n",
    "    close_vals.append(df['close'].iloc[:-1] / stock_opens.iloc[:-1])\n",
    "    \n",
    "data = np.array([close_vals, high_vals, low_vals, open_vals])"
   ]
  },
  {
   "cell_type": "code",
   "execution_count": 23,
   "metadata": {},
   "outputs": [
    {
     "data": {
      "text/plain": [
       "(4, 16, 1258)"
      ]
     },
     "execution_count": 23,
     "metadata": {},
     "output_type": "execute_result"
    }
   ],
   "source": [
    "data.shape"
   ]
  },
  {
   "cell_type": "code",
   "execution_count": 26,
   "metadata": {},
   "outputs": [],
   "source": [
    "with open('./data.npy','wb') as f:\n",
    "    np.save(f, data)"
   ]
  },
  {
   "cell_type": "markdown",
   "metadata": {},
   "source": [
    "4 = Number of features\n",
    "16 = Number of stocks being studied\n",
    "1258 = Number of timesteps"
   ]
  },
  {
   "cell_type": "code",
   "execution_count": 28,
   "metadata": {},
   "outputs": [
    {
     "data": {
      "text/plain": [
       "array([[[1.00017032, 1.02917399, 1.00627521, ..., 1.01228453,\n",
       "         1.01589994, 1.00926766],\n",
       "        [1.00451493, 1.00333795, 1.00704389, ..., 1.01428335,\n",
       "         1.01356877, 1.00240233],\n",
       "        [1.00062752, 1.01135633, 1.0163329 , ..., 1.00959372,\n",
       "         1.02787171, 1.00340266],\n",
       "        ...,\n",
       "        [1.00439563, 1.00059588, 1.00490793, ..., 1.00963425,\n",
       "         1.01485532, 1.00480584],\n",
       "        [1.01223475, 1.00473458, 1.00472633, ..., 1.02060547,\n",
       "         1.01804891, 1.0113514 ],\n",
       "        [1.00313414, 1.01722194, 1.00478804, ..., 1.02182978,\n",
       "         1.01323545, 1.00638771]],\n",
       "\n",
       "       [[1.00621544, 1.03031632, 1.00455599, ..., 1.01465523,\n",
       "         1.00424003, 1.00181179],\n",
       "        [1.00914565, 1.0035682 , 1.00219402, ..., 1.00946686,\n",
       "         1.00882787, 1.00464447],\n",
       "        [1.02250107, 1.02674236, 1.0181784 , ..., 1.01415373,\n",
       "         1.00116616, 1.00913061],\n",
       "        ...,\n",
       "        [1.01118884, 1.00198614, 1.01308792, ..., 1.00688161,\n",
       "         1.00215013, 1.00115343],\n",
       "        [1.01373282, 1.01021679, 1.00472633, ..., 1.01268029,\n",
       "         1.00451223, 1.00444855],\n",
       "        [1.00313414, 1.01655559, 1.01365114, ..., 1.00581135,\n",
       "         1.00538147, 1.00480871]],\n",
       "\n",
       "       [[1.00017032, 1.02917399, 1.00627521, ..., 1.01228453,\n",
       "         1.01589994, 1.00926766],\n",
       "        [1.00451493, 1.00333795, 1.00704389, ..., 1.01428335,\n",
       "         1.01356877, 1.00240233],\n",
       "        [1.00062752, 1.01135633, 1.0163329 , ..., 1.00959372,\n",
       "         1.02787171, 1.00340266],\n",
       "        ...,\n",
       "        [1.00439563, 1.00059588, 1.00490793, ..., 1.00963425,\n",
       "         1.01485532, 1.00480584],\n",
       "        [1.01223475, 1.00473458, 1.00472633, ..., 1.02060547,\n",
       "         1.01804891, 1.0113514 ],\n",
       "        [1.00313414, 1.01722194, 1.00478804, ..., 1.02182978,\n",
       "         1.01323545, 1.00638771]],\n",
       "\n",
       "       [[0.968923  , 1.02223197, 0.99957016, ..., 1.01659481,\n",
       "         1.01413328, 0.99756121],\n",
       "        [1.00578838, 0.99677718, 0.98960737, ..., 1.01594418,\n",
       "         1.02076182, 0.99727742],\n",
       "        [0.97884356, 0.99249016, 1.00590569, ..., 1.01563425,\n",
       "         1.02816328, 1.00396981],\n",
       "        ...,\n",
       "        [1.00599399, 0.97120165, 0.98057258, ..., 1.00589853,\n",
       "         1.01681002, 0.99279123],\n",
       "        [1.00199755, 1.00174432, 0.98880595, ..., 1.01870338,\n",
       "         1.0143147 , 0.98734462],\n",
       "        [0.98625012, 1.00625321, 0.99347996, ..., 1.02451194,\n",
       "         1.01323545, 1.00409095]]])"
      ]
     },
     "execution_count": 28,
     "metadata": {},
     "output_type": "execute_result"
    }
   ],
   "source": [
    "with open('./data.npy','rb') as f:\n",
    "    data = np.load(f)\n",
    "data"
   ]
  },
  {
   "cell_type": "code",
   "execution_count": 17,
   "metadata": {},
   "outputs": [
    {
     "data": {
      "text/plain": [
       "Name\n",
       "AMZN     1975.764407\n",
       "GOOGL    1356.926354\n",
       "GOOG     1355.439049\n",
       "AZO       968.762383\n",
       "CMG       783.023304\n",
       "MTD       777.720873\n",
       "EQIX      524.079348\n",
       "BLK       503.959990\n",
       "CHTR      441.602613\n",
       "REGN      431.489134\n",
       "TDG       395.766216\n",
       "ORLY      365.179699\n",
       "NFLX      342.518697\n",
       "ROP       321.464514\n",
       "LMT       315.719416\n",
       "Name: volume, dtype: float64"
      ]
     },
     "execution_count": 17,
     "metadata": {},
     "output_type": "execute_result"
    }
   ],
   "source": [
    "stocks.groupby('Name').volume.mean().sort_values(ascending=False).iloc[:15]"
   ]
  }
 ],
 "metadata": {
  "kernelspec": {
   "display_name": "Python 3",
   "language": "python",
   "name": "python3"
  },
  "language_info": {
   "codemirror_mode": {
    "name": "ipython",
    "version": 3
   },
   "file_extension": ".py",
   "mimetype": "text/x-python",
   "name": "python",
   "nbconvert_exporter": "python",
   "pygments_lexer": "ipython3",
   "version": "3.8.6"
  }
 },
 "nbformat": 4,
 "nbformat_minor": 5
}
