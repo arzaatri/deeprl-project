{
 "cells": [
  {
   "cell_type": "code",
   "execution_count": 3,
   "metadata": {},
   "outputs": [
    {
     "name": "stdout",
     "output_type": "stream",
     "text": [
      "There are 466 stocks\n",
      "2021-10-18\n"
     ]
    },
    {
     "data": {
      "text/html": [
       "<div>\n",
       "<style scoped>\n",
       "    .dataframe tbody tr th:only-of-type {\n",
       "        vertical-align: middle;\n",
       "    }\n",
       "\n",
       "    .dataframe tbody tr th {\n",
       "        vertical-align: top;\n",
       "    }\n",
       "\n",
       "    .dataframe thead th {\n",
       "        text-align: right;\n",
       "    }\n",
       "</style>\n",
       "<table border=\"1\" class=\"dataframe\">\n",
       "  <thead>\n",
       "    <tr style=\"text-align: right;\">\n",
       "      <th></th>\n",
       "      <th>date</th>\n",
       "      <th>open</th>\n",
       "      <th>high</th>\n",
       "      <th>low</th>\n",
       "      <th>close</th>\n",
       "      <th>volume</th>\n",
       "      <th>adj_close</th>\n",
       "      <th>Name</th>\n",
       "    </tr>\n",
       "  </thead>\n",
       "  <tbody>\n",
       "    <tr>\n",
       "      <th>0</th>\n",
       "      <td>2016-10-18</td>\n",
       "      <td>45.830002</td>\n",
       "      <td>45.270000</td>\n",
       "      <td>45.700001</td>\n",
       "      <td>45.439999</td>\n",
       "      <td>1949100.0</td>\n",
       "      <td>43.582001</td>\n",
       "      <td>A</td>\n",
       "    </tr>\n",
       "    <tr>\n",
       "      <th>1</th>\n",
       "      <td>2016-10-19</td>\n",
       "      <td>46.150002</td>\n",
       "      <td>45.340000</td>\n",
       "      <td>45.410000</td>\n",
       "      <td>46.020000</td>\n",
       "      <td>1769000.0</td>\n",
       "      <td>44.138287</td>\n",
       "      <td>A</td>\n",
       "    </tr>\n",
       "    <tr>\n",
       "      <th>2</th>\n",
       "      <td>2016-10-20</td>\n",
       "      <td>46.220001</td>\n",
       "      <td>45.650002</td>\n",
       "      <td>46.000000</td>\n",
       "      <td>46.049999</td>\n",
       "      <td>1493600.0</td>\n",
       "      <td>44.167057</td>\n",
       "      <td>A</td>\n",
       "    </tr>\n",
       "    <tr>\n",
       "      <th>3</th>\n",
       "      <td>2016-10-21</td>\n",
       "      <td>45.669998</td>\n",
       "      <td>45.290001</td>\n",
       "      <td>45.669998</td>\n",
       "      <td>45.570000</td>\n",
       "      <td>1011300.0</td>\n",
       "      <td>43.706684</td>\n",
       "      <td>A</td>\n",
       "    </tr>\n",
       "    <tr>\n",
       "      <th>4</th>\n",
       "      <td>2016-10-24</td>\n",
       "      <td>45.950001</td>\n",
       "      <td>45.639999</td>\n",
       "      <td>45.880001</td>\n",
       "      <td>45.849998</td>\n",
       "      <td>1666400.0</td>\n",
       "      <td>43.975243</td>\n",
       "      <td>A</td>\n",
       "    </tr>\n",
       "  </tbody>\n",
       "</table>\n",
       "</div>"
      ],
      "text/plain": [
       "         date       open       high        low      close     volume  \\\n",
       "0  2016-10-18  45.830002  45.270000  45.700001  45.439999  1949100.0   \n",
       "1  2016-10-19  46.150002  45.340000  45.410000  46.020000  1769000.0   \n",
       "2  2016-10-20  46.220001  45.650002  46.000000  46.049999  1493600.0   \n",
       "3  2016-10-21  45.669998  45.290001  45.669998  45.570000  1011300.0   \n",
       "4  2016-10-24  45.950001  45.639999  45.880001  45.849998  1666400.0   \n",
       "\n",
       "   adj_close Name  \n",
       "0  43.582001    A  \n",
       "1  44.138287    A  \n",
       "2  44.167057    A  \n",
       "3  43.706684    A  \n",
       "4  43.975243    A  "
      ]
     },
     "execution_count": 3,
     "metadata": {},
     "output_type": "execute_result"
    }
   ],
   "source": [
    "import pandas as pd\n",
    "stocks = pd.read_csv('/scratch/arz8448/deeprl-hw/Project/data/all_stocks_5yr.csv')\n",
    "fixed_names = {k:v for v, k in zip(stocks.columns[1:], stocks.columns[:-1])}\n",
    "fixed_names['index']='date'\n",
    "fixed_names['volume'] = 'adj_close'\n",
    "\n",
    "stocks = stocks.reset_index().rename(columns=fixed_names).sort_values(['Name','date'])\n",
    "print(f'There are {stocks.Name.nunique()} stocks')\n",
    "print(stocks.date.max())\n",
    "stocks.to_csv('/scratch/arz8448/deeprl-hw/Project/data/all_stocks_5yr.csv', index=False)\n",
    "stocks = pd.read_csv('/scratch/arz8448/deeprl-hw/Project/data/all_stocks_5yr.csv')\n",
    "stocks.head()"
   ]
  },
  {
   "cell_type": "code",
   "execution_count": 4,
   "metadata": {},
   "outputs": [
    {
     "data": {
      "text/plain": [
       "True"
      ]
     },
     "execution_count": 4,
     "metadata": {},
     "output_type": "execute_result"
    }
   ],
   "source": [
    "tickers = ['AAPL', 'AMZN', 'BA', 'GOOGL', 'JPM', 'KO', 'MSFT', 'SPG', 'STT', 'TGT',\n",
    "           'UNH', 'VMC', 'VZ', 'WMT', 'XEL', 'XOM']\n",
    "all([t in stocks.Name.unique() for t in tickers])"
   ]
  },
  {
   "cell_type": "code",
   "execution_count": 5,
   "metadata": {},
   "outputs": [
    {
     "name": "stdout",
     "output_type": "stream",
     "text": [
      "AAPL\n",
      "AMZN\n",
      "BA\n",
      "GOOGL\n",
      "JPM\n",
      "KO\n",
      "MSFT\n",
      "SPG\n",
      "STT\n",
      "TGT\n",
      "UNH\n",
      "VMC\n",
      "VZ\n",
      "WMT\n",
      "XEL\n",
      "XOM\n"
     ]
    }
   ],
   "source": [
    "import numpy as np\n",
    "open_vals = []\n",
    "high_vals = []\n",
    "low_vals = []\n",
    "close_vals = []\n",
    "\n",
    "for ticker in tickers:\n",
    "    print(ticker)\n",
    "    df = stocks[stocks.Name == ticker]\n",
    "    stock_opens = df['open']\n",
    "    # Open(t) / Open(t-1)\n",
    "    open_vals.append(stock_opens.iloc[1:].reset_index(drop = True) / \n",
    "                     stock_opens.iloc[:-1].reset_index(drop = True))\n",
    "    # High(t-1) / Open(t-1) and so fort\n",
    "    high_vals.append(df['high'].iloc[:-1] / stock_opens.iloc[:-1])\n",
    "    low_vals.append(df['low'].iloc[:-1] / stock_opens.iloc[:-1])\n",
    "    close_vals.append(df['close'].iloc[:-1] / stock_opens.iloc[:-1])\n",
    "    \n",
    "data = np.array([close_vals, high_vals, low_vals, open_vals])"
   ]
  },
  {
   "cell_type": "code",
   "execution_count": 6,
   "metadata": {},
   "outputs": [
    {
     "data": {
      "text/plain": [
       "(4, 16, 1258)"
      ]
     },
     "execution_count": 6,
     "metadata": {},
     "output_type": "execute_result"
    }
   ],
   "source": [
    "data.shape"
   ]
  },
  {
   "cell_type": "code",
   "execution_count": 7,
   "metadata": {},
   "outputs": [],
   "source": [
    "with open('./data.npy','wb') as f:\n",
    "    np.save(f, data)"
   ]
  },
  {
   "cell_type": "markdown",
   "metadata": {},
   "source": [
    "4 = Number of features\n",
    "16 = Number of stocks being studied\n",
    "1258 = Number of timesteps"
   ]
  },
  {
   "cell_type": "code",
   "execution_count": 10,
   "metadata": {},
   "outputs": [
    {
     "data": {
      "text/plain": [
       "array([[[0.99373997, 0.99456522, 0.99727381, ..., 0.99653472,\n",
       "         0.9991659 , 0.99958594],\n",
       "        [0.99358748, 0.99225953, 0.9966857 , ..., 0.99478743,\n",
       "         0.99646414, 0.99238942],\n",
       "        [0.97680936, 0.98501472, 0.99314696, ..., 0.98909257,\n",
       "         0.99886674, 0.99259463],\n",
       "        ...,\n",
       "        [0.99328196, 0.99506222, 0.99132539, ..., 0.99883289,\n",
       "         0.99865352, 0.98977465],\n",
       "        [0.99289736, 0.994328  , 0.99360388, ..., 0.9984494 ,\n",
       "         0.99407476, 0.9989394 ],\n",
       "        [0.9937403 , 0.99859113, 0.99055938, ..., 0.99701946,\n",
       "         0.99592572, 0.9898348 ]],\n",
       "\n",
       "       [[0.99357075, 0.96637229, 0.99105473, ..., 0.98444132,\n",
       "         0.98352787, 0.99040718],\n",
       "        [0.98912167, 0.98895844, 0.98971427, ..., 0.98077862,\n",
       "         0.98312435, 0.99001108],\n",
       "        [0.97619678, 0.97395417, 0.97718667, ..., 0.97969366,\n",
       "         0.97178153, 0.98922862],\n",
       "        ...,\n",
       "        [0.98893497, 0.99446963, 0.9864838 , ..., 0.98930171,\n",
       "         0.98403536, 0.9850407 ],\n",
       "        [0.98089634, 0.98964246, 0.98892987, ..., 0.97829124,\n",
       "         0.97645088, 0.98772731],\n",
       "        [0.99063551, 0.98168462, 0.98583915, ..., 0.97571971,\n",
       "         0.98291637, 0.98355215]],\n",
       "\n",
       "       [[0.99974622, 0.99566914, 0.99556997, ..., 0.99886854,\n",
       "         0.98769805, 0.99220159],\n",
       "        [0.99816783, 0.99248724, 0.99188572, ..., 0.99006352,\n",
       "         0.99180324, 0.99460916],\n",
       "        [0.99816226, 1.        , 0.99495036, ..., 0.99355999,\n",
       "         0.97291478, 0.99826088],\n",
       "        ...,\n",
       "        [1.        , 0.99644479, 0.99939482, ..., 0.99610969,\n",
       "         0.98615116, 0.98617687],\n",
       "        [0.99436681, 0.99975343, 0.99360388, ..., 0.99069626,\n",
       "         0.98085685, 0.99212126],\n",
       "        [0.9937403 , 0.99793698, 0.99929698, ..., 0.98138996,\n",
       "         0.9882059 , 0.98828178]],\n",
       "\n",
       "       [[0.99619324, 0.99677306, 0.99599597, ..., 1.01753898,\n",
       "         1.00708916, 1.01338856],\n",
       "        [1.00595439, 0.99601595, 0.99222857, ..., 1.01352015,\n",
       "         1.01366118, 1.00110987],\n",
       "        [0.98109744, 0.98920704, 1.00712354, ..., 1.02390343,\n",
       "         1.01002949, 1.01727911],\n",
       "        ...,\n",
       "        [1.00039519, 0.97906377, 0.9868872 , ..., 1.01128189,\n",
       "         1.01577226, 0.99072142],\n",
       "        [0.99314223, 1.00246615, 0.9911439 , ..., 1.02062338,\n",
       "         1.00273474, 0.99227269],\n",
       "        [0.99524264, 1.00201265, 0.9887516 , ..., 1.01701073,\n",
       "         1.01258048, 1.02209508]]])"
      ]
     },
     "execution_count": 10,
     "metadata": {},
     "output_type": "execute_result"
    }
   ],
   "source": [
    "with open('./data.npy','rb') as f:\n",
    "    data = np.load(f)\n",
    "data"
   ]
  },
  {
   "cell_type": "code",
   "execution_count": 17,
   "metadata": {},
   "outputs": [
    {
     "data": {
      "text/plain": [
       "Name\n",
       "AMZN     1975.764407\n",
       "GOOGL    1356.926354\n",
       "GOOG     1355.439049\n",
       "AZO       968.762383\n",
       "CMG       783.023304\n",
       "MTD       777.720873\n",
       "EQIX      524.079348\n",
       "BLK       503.959990\n",
       "CHTR      441.602613\n",
       "REGN      431.489134\n",
       "TDG       395.766216\n",
       "ORLY      365.179699\n",
       "NFLX      342.518697\n",
       "ROP       321.464514\n",
       "LMT       315.719416\n",
       "Name: volume, dtype: float64"
      ]
     },
     "execution_count": 17,
     "metadata": {},
     "output_type": "execute_result"
    }
   ],
   "source": [
    "stocks.groupby('Name').volume.mean().sort_values(ascending=False).iloc[:15]"
   ]
  }
 ],
 "metadata": {
  "kernelspec": {
   "display_name": "Python 3",
   "language": "python",
   "name": "python3"
  },
  "language_info": {
   "codemirror_mode": {
    "name": "ipython",
    "version": 3
   },
   "file_extension": ".py",
   "mimetype": "text/x-python",
   "name": "python",
   "nbconvert_exporter": "python",
   "pygments_lexer": "ipython3",
   "version": "3.8.6"
  }
 },
 "nbformat": 4,
 "nbformat_minor": 5
}
